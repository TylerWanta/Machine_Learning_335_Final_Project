{
 "cells": [
  {
   "cell_type": "code",
   "execution_count": 8,
   "metadata": {},
   "outputs": [],
   "source": [
    "import pandas as pd\n",
    "import numpy as np\n",
    "from sklearn.preprocessing import OneHotEncoder"
   ]
  },
  {
   "cell_type": "code",
   "execution_count": 2,
   "metadata": {},
   "outputs": [],
   "source": [
    "data = pd.read_csv('data_part1.csv')"
   ]
  },
  {
   "cell_type": "code",
   "execution_count": 3,
   "metadata": {},
   "outputs": [
    {
     "data": {
      "text/html": [
       "<div>\n",
       "<style scoped>\n",
       "    .dataframe tbody tr th:only-of-type {\n",
       "        vertical-align: middle;\n",
       "    }\n",
       "\n",
       "    .dataframe tbody tr th {\n",
       "        vertical-align: top;\n",
       "    }\n",
       "\n",
       "    .dataframe thead th {\n",
       "        text-align: right;\n",
       "    }\n",
       "</style>\n",
       "<table border=\"1\" class=\"dataframe\">\n",
       "  <thead>\n",
       "    <tr style=\"text-align: right;\">\n",
       "      <th></th>\n",
       "      <th>Unnamed: 0</th>\n",
       "      <th>id</th>\n",
       "      <th>gender</th>\n",
       "      <th>season</th>\n",
       "      <th>age</th>\n",
       "      <th>tripletsOfMonths</th>\n",
       "      <th>commonRed</th>\n",
       "      <th>commonGreen</th>\n",
       "      <th>commonBlue</th>\n",
       "    </tr>\n",
       "  </thead>\n",
       "  <tbody>\n",
       "    <tr>\n",
       "      <th>0</th>\n",
       "      <td>0</td>\n",
       "      <td>15970</td>\n",
       "      <td>Men</td>\n",
       "      <td>Fall</td>\n",
       "      <td>2</td>\n",
       "      <td>4</td>\n",
       "      <td>254</td>\n",
       "      <td>254</td>\n",
       "      <td>90</td>\n",
       "    </tr>\n",
       "    <tr>\n",
       "      <th>1</th>\n",
       "      <td>1</td>\n",
       "      <td>39386</td>\n",
       "      <td>Men</td>\n",
       "      <td>Summer</td>\n",
       "      <td>2</td>\n",
       "      <td>3</td>\n",
       "      <td>40</td>\n",
       "      <td>53</td>\n",
       "      <td>59</td>\n",
       "    </tr>\n",
       "    <tr>\n",
       "      <th>2</th>\n",
       "      <td>2</td>\n",
       "      <td>59263</td>\n",
       "      <td>Women</td>\n",
       "      <td>Winter</td>\n",
       "      <td>2</td>\n",
       "      <td>1</td>\n",
       "      <td>234</td>\n",
       "      <td>234</td>\n",
       "      <td>234</td>\n",
       "    </tr>\n",
       "    <tr>\n",
       "      <th>3</th>\n",
       "      <td>3</td>\n",
       "      <td>21379</td>\n",
       "      <td>Men</td>\n",
       "      <td>Fall</td>\n",
       "      <td>2</td>\n",
       "      <td>4</td>\n",
       "      <td>50</td>\n",
       "      <td>50</td>\n",
       "      <td>52</td>\n",
       "    </tr>\n",
       "    <tr>\n",
       "      <th>4</th>\n",
       "      <td>4</td>\n",
       "      <td>53759</td>\n",
       "      <td>Men</td>\n",
       "      <td>Summer</td>\n",
       "      <td>2</td>\n",
       "      <td>3</td>\n",
       "      <td>0</td>\n",
       "      <td>0</td>\n",
       "      <td>0</td>\n",
       "    </tr>\n",
       "    <tr>\n",
       "      <th>...</th>\n",
       "      <td>...</td>\n",
       "      <td>...</td>\n",
       "      <td>...</td>\n",
       "      <td>...</td>\n",
       "      <td>...</td>\n",
       "      <td>...</td>\n",
       "      <td>...</td>\n",
       "      <td>...</td>\n",
       "      <td>...</td>\n",
       "    </tr>\n",
       "    <tr>\n",
       "      <th>44441</th>\n",
       "      <td>44441</td>\n",
       "      <td>17036</td>\n",
       "      <td>Men</td>\n",
       "      <td>Summer</td>\n",
       "      <td>2</td>\n",
       "      <td>3</td>\n",
       "      <td>241</td>\n",
       "      <td>242</td>\n",
       "      <td>234</td>\n",
       "    </tr>\n",
       "    <tr>\n",
       "      <th>44442</th>\n",
       "      <td>44442</td>\n",
       "      <td>6461</td>\n",
       "      <td>Men</td>\n",
       "      <td>Summer</td>\n",
       "      <td>2</td>\n",
       "      <td>3</td>\n",
       "      <td>223</td>\n",
       "      <td>220</td>\n",
       "      <td>213</td>\n",
       "    </tr>\n",
       "    <tr>\n",
       "      <th>44443</th>\n",
       "      <td>44443</td>\n",
       "      <td>18842</td>\n",
       "      <td>Men</td>\n",
       "      <td>Fall</td>\n",
       "      <td>2</td>\n",
       "      <td>4</td>\n",
       "      <td>144</td>\n",
       "      <td>191</td>\n",
       "      <td>221</td>\n",
       "    </tr>\n",
       "    <tr>\n",
       "      <th>44444</th>\n",
       "      <td>44444</td>\n",
       "      <td>46694</td>\n",
       "      <td>Women</td>\n",
       "      <td>Spring</td>\n",
       "      <td>2</td>\n",
       "      <td>2</td>\n",
       "      <td>253</td>\n",
       "      <td>253</td>\n",
       "      <td>253</td>\n",
       "    </tr>\n",
       "    <tr>\n",
       "      <th>44445</th>\n",
       "      <td>44445</td>\n",
       "      <td>51623</td>\n",
       "      <td>Women</td>\n",
       "      <td>Winter</td>\n",
       "      <td>2</td>\n",
       "      <td>1</td>\n",
       "      <td>216</td>\n",
       "      <td>216</td>\n",
       "      <td>225</td>\n",
       "    </tr>\n",
       "  </tbody>\n",
       "</table>\n",
       "<p>44446 rows × 9 columns</p>\n",
       "</div>"
      ],
      "text/plain": [
       "       Unnamed: 0     id gender  season  age  tripletsOfMonths  commonRed  \\\n",
       "0               0  15970    Men    Fall    2                 4        254   \n",
       "1               1  39386    Men  Summer    2                 3         40   \n",
       "2               2  59263  Women  Winter    2                 1        234   \n",
       "3               3  21379    Men    Fall    2                 4         50   \n",
       "4               4  53759    Men  Summer    2                 3          0   \n",
       "...           ...    ...    ...     ...  ...               ...        ...   \n",
       "44441       44441  17036    Men  Summer    2                 3        241   \n",
       "44442       44442   6461    Men  Summer    2                 3        223   \n",
       "44443       44443  18842    Men    Fall    2                 4        144   \n",
       "44444       44444  46694  Women  Spring    2                 2        253   \n",
       "44445       44445  51623  Women  Winter    2                 1        216   \n",
       "\n",
       "       commonGreen  commonBlue  \n",
       "0              254          90  \n",
       "1               53          59  \n",
       "2              234         234  \n",
       "3               50          52  \n",
       "4                0           0  \n",
       "...            ...         ...  \n",
       "44441          242         234  \n",
       "44442          220         213  \n",
       "44443          191         221  \n",
       "44444          253         253  \n",
       "44445          216         225  \n",
       "\n",
       "[44446 rows x 9 columns]"
      ]
     },
     "execution_count": 3,
     "metadata": {},
     "output_type": "execute_result"
    }
   ],
   "source": [
    "data"
   ]
  },
  {
   "cell_type": "code",
   "execution_count": 15,
   "metadata": {},
   "outputs": [
    {
     "data": {
      "text/plain": [
       "[array(['Boys'], dtype=object),\n",
       " array(['Girls'], dtype=object),\n",
       " array(['Men'], dtype=object),\n",
       " array(['Unisex'], dtype=object),\n",
       " array(['Women'], dtype=object)]"
      ]
     },
     "execution_count": 15,
     "metadata": {},
     "output_type": "execute_result"
    }
   ],
   "source": [
    "gender_encoder = OneHotEncoder()\n",
    "genders = np.unique(data['gender'])\n",
    "\n",
    "gender_encoder.fit([genders])\n",
    "gender_encoder.categories_"
   ]
  },
  {
   "cell_type": "code",
   "execution_count": 44,
   "metadata": {},
   "outputs": [],
   "source": [
    "from sklearn.model_selection import train_test_split, cross_val_score, GridSearchCV\n",
    "from sklearn.neighbors import KNeighborsClassifier\n",
    "\n",
    "data_train, data_test = train_test_split(data, test_size=.2)"
   ]
  },
  {
   "cell_type": "code",
   "execution_count": 26,
   "metadata": {},
   "outputs": [],
   "source": [
    "# going to try to predict gender from the other categories\n",
    "X = data_train[['age', 'tripletsOfMonths', 'commonRed', 'commonGreen', 'commonBlue']]\n",
    "Y = data_train[['gender']].values.reshape(-1,)"
   ]
  },
  {
   "cell_type": "code",
   "execution_count": 28,
   "metadata": {},
   "outputs": [
    {
     "name": "stdout",
     "output_type": "stream",
     "text": [
      "Average Cros Val score with 1 neighbors is 0.5608332374990883\n",
      "Average Cros Val score with 2 neighbors is 0.5580768257926415\n",
      "Average Cros Val score with 3 neighbors is 0.5714083038699055\n",
      "Average Cros Val score with 4 neighbors is 0.5768645165311305\n",
      "Average Cros Val score with 5 neighbors is 0.5813083478297459\n",
      "Average Cros Val score with 6 neighbors is 0.5817300949636957\n",
      "Average Cros Val score with 7 neighbors is 0.5831646268341053\n"
     ]
    }
   ],
   "source": [
    "# First going to see how KNeighbors performs \n",
    "for n in range(1, 8):\n",
    "    K = KNeighborsClassifier(n_neighbors=n)\n",
    "    cv = cross_val_score(K, X, Y, cv=5)\n",
    "    \n",
    "    print(f'Average Cross Val score with {n} neighbors is {cv.mean()}')"
   ]
  },
  {
   "cell_type": "code",
   "execution_count": 33,
   "metadata": {},
   "outputs": [
    {
     "name": "stdout",
     "output_type": "stream",
     "text": [
      "Average cross Val score with tree of 1 depth is 0.5457306793021285\n",
      "Average cross Val score with tree of 2 depth is 0.6180109587974967\n",
      "Average cross Val score with tree of 3 depth is 0.6220609627600516\n",
      "Average cross Val score with tree of 4 depth is 0.6380356349950702\n",
      "Average cross Val score with tree of 5 depth is 0.6378668625850821\n",
      "Average cross Val score with tree of 6 depth is 0.640707729702821\n",
      "Average cross Val score with tree of 7 depth is 0.649257614155986\n"
     ]
    }
   ],
   "source": [
    "from sklearn.tree import DecisionTreeClassifier\n",
    "\n",
    "# Try out Decision Tree Classifier to see what we get\n",
    "for n in range(1, 8):\n",
    "    T = DecisionTreeClassifier(max_depth=n)\n",
    "    \n",
    "    cv = cross_val_score(T, X, Y, cv=5)\n",
    "    \n",
    "    print(f'Average cross Val score with tree of {n} depth is {cv.mean()}')"
   ]
  },
  {
   "cell_type": "code",
   "execution_count": 52,
   "metadata": {},
   "outputs": [],
   "source": [
    "# try optimizing params\n",
    "# will also throw RandomForests in there for giggles\n",
    "from sklearn.ensemble import RandomForestClassifier\n",
    "from sklearn.pipeline import Pipeline\n",
    "param_grid = [{\n",
    "        'estimator': [KNeighborsClassifier()],\n",
    "        'estimator__n_neighbors': list(range(1, 10)),\n",
    "        'estimator__n_jobs':[-1]\n",
    "    },\n",
    "    {\n",
    "        'estimator': [DecisionTreeClassifier()],\n",
    "        'estimator__max_depth': list(range(1, 10))\n",
    "    },\n",
    "    {\n",
    "        'estimator': [RandomForestClassifier()],\n",
    "        'estimator__n_estimators':[10, 50, 100, 300],\n",
    "        'estimator__max_depth': list(range(1, 8)),\n",
    "        'estimator__n_jobs':[-1]\n",
    "    }\n",
    "]"
   ]
  },
  {
   "cell_type": "code",
   "execution_count": 53,
   "metadata": {},
   "outputs": [],
   "source": [
    "# initilize pipeline for use with grid search\n",
    "pipe = Pipeline(steps=[('estimator', KNeighborsClassifier())])\n",
    "\n",
    "# initilize grid search\n",
    "grid = GridSearchCV(pipe, param_grid)"
   ]
  },
  {
   "cell_type": "code",
   "execution_count": 54,
   "metadata": {},
   "outputs": [
    {
     "data": {
      "text/plain": [
       "GridSearchCV(cv=None, error_score=nan,\n",
       "             estimator=Pipeline(memory=None,\n",
       "                                steps=[('estimator',\n",
       "                                        KNeighborsClassifier(algorithm='auto',\n",
       "                                                             leaf_size=30,\n",
       "                                                             metric='minkowski',\n",
       "                                                             metric_params=None,\n",
       "                                                             n_jobs=None,\n",
       "                                                             n_neighbors=5, p=2,\n",
       "                                                             weights='uniform'))],\n",
       "                                verbose=False),\n",
       "             iid='deprecated', n_jobs=None,\n",
       "             param_grid=[{'estimator': [KNeighborsClassifier(algorithm='auto',\n",
       "                                                             leaf_size=30,\n",
       "                                                             m...\n",
       "                                                               min_impurity_split=None,\n",
       "                                                               min_samples_leaf=1,\n",
       "                                                               min_samples_split=2,\n",
       "                                                               min_weight_fraction_leaf=0.0,\n",
       "                                                               n_estimators=100,\n",
       "                                                               n_jobs=-1,\n",
       "                                                               oob_score=False,\n",
       "                                                               random_state=None,\n",
       "                                                               verbose=0,\n",
       "                                                               warm_start=False)],\n",
       "                          'estimator__max_depth': [1, 2, 3, 4, 5, 6, 7],\n",
       "                          'estimator__n_estimators': [10, 50, 100, 300],\n",
       "                          'estimator__n_jobs': [-1]}],\n",
       "             pre_dispatch='2*n_jobs', refit=True, return_train_score=False,\n",
       "             scoring=None, verbose=0)"
      ]
     },
     "execution_count": 54,
     "metadata": {},
     "output_type": "execute_result"
    }
   ],
   "source": [
    "# find best estimator with params\n",
    "grid.fit(X,Y)"
   ]
  },
  {
   "cell_type": "code",
   "execution_count": 55,
   "metadata": {
    "scrolled": true
   },
   "outputs": [
    {
     "name": "stdout",
     "output_type": "stream",
     "text": [
      "{'estimator': RandomForestClassifier(bootstrap=True, ccp_alpha=0.0, class_weight=None,\n",
      "                       criterion='gini', max_depth=7, max_features='auto',\n",
      "                       max_leaf_nodes=None, max_samples=None,\n",
      "                       min_impurity_decrease=0.0, min_impurity_split=None,\n",
      "                       min_samples_leaf=1, min_samples_split=2,\n",
      "                       min_weight_fraction_leaf=0.0, n_estimators=100,\n",
      "                       n_jobs=-1, oob_score=False, random_state=None, verbose=0,\n",
      "                       warm_start=False), 'estimator__max_depth': 7, 'estimator__n_estimators': 100, 'estimator__n_jobs': -1}\n",
      "0.6596636827020164\n"
     ]
    }
   ],
   "source": [
    "# print best params and score\n",
    "print(grid.best_params_)\n",
    "print(grid.best_score_)"
   ]
  },
  {
   "cell_type": "markdown",
   "metadata": {},
   "source": [
    "We can see that the best score of ~.66 comes from a RandomForestClassifier with depth 7 and 100 trees. \n",
    "\n",
    "The best score for KNeighbors was ~.58 with 7 neighbors. This implies that around half the time, the model was able to predict what age group the item was for, based on color and season. \n",
    "\n",
    "The best score for DecisionTreeClassifier was ~.65 with a tree of depth 8. A little over half the time the model was able to predict what the age was. \n",
    "\n",
    "Honestly, these score are actually a lot better than I thought they would be. I didn't really see much relationship between color and season, to age group. One thing to note is that the 'Age' catgory only inclues 3 values. Meaning that even with random guessing, the model could still achieve a score of around ~.33 farily easy. Also adding more range in parameters for GridSearchCV to search through could alter these scores.\n",
    "\n",
    "For the ranking of models, RandomForestClassifier in first, DecisionTrees in second, and Kneighbors in third, I do believe this to make some sense based on their underlying theory. Since the data has little correlation, and some variables have few possible outcomes i.e 4 values for TripletOfMonths and 3 for Age, it would be easier to make accuarate \"Cuts\" on the data opposed to finding the nearest data points. This would lead to Decision Trees outperforming Kneighbors and Random Forest, aka a bunch of Decision Trees, outperforming a single Tree."
   ]
  }
 ],
 "metadata": {
  "kernelspec": {
   "display_name": "Python 3",
   "language": "python",
   "name": "python3"
  },
  "language_info": {
   "codemirror_mode": {
    "name": "ipython",
    "version": 3
   },
   "file_extension": ".py",
   "mimetype": "text/x-python",
   "name": "python",
   "nbconvert_exporter": "python",
   "pygments_lexer": "ipython3",
   "version": "3.7.6"
  }
 },
 "nbformat": 4,
 "nbformat_minor": 4
}
