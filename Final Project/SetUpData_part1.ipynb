{
 "cells": [
  {
   "cell_type": "code",
   "execution_count": null,
   "metadata": {},
   "outputs": [],
   "source": [
    "import numpy as np\n",
    "import pandas as pd\n",
    "from PIL import Image\n",
    "import glob\n",
    "import matplotlib.pyplot as plt\n",
    "from matplotlib import colors\n",
    "import cv2"
   ]
  },
  {
   "cell_type": "code",
   "execution_count": null,
   "metadata": {},
   "outputs": [],
   "source": [
    "styles = pd.read_csv('C:\\\\Users\\\\WantaTyler\\\\MachineLearning-335\\\\datasets\\\\fashion-dataset\\\\styles_clean.csv')"
   ]
  },
  {
   "cell_type": "code",
   "execution_count": null,
   "metadata": {},
   "outputs": [],
   "source": [
    "styles.head()"
   ]
  },
  {
   "cell_type": "code",
   "execution_count": null,
   "metadata": {},
   "outputs": [],
   "source": [
    "# start off with just taking the id, gender, and season\n",
    "predictors = styles[['id', 'gender', 'season']]"
   ]
  },
  {
   "cell_type": "code",
   "execution_count": null,
   "metadata": {},
   "outputs": [],
   "source": [
    "# method used to numericalize gender into age label\n",
    "# 0 => any age, 1 => teen and lower, 2 => adult and above\n",
    "def genderToAge(row):\n",
    "    if row['gender'] == 'Unisex':\n",
    "        return 0\n",
    "    if row['gender'] == 'Boys' or row['gender'] == 'Girls':\n",
    "        return 1\n",
    "    if row['gender'] == 'Men' or row['gender'] == 'Women':\n",
    "        return 2"
   ]
  },
  {
   "cell_type": "code",
   "execution_count": null,
   "metadata": {},
   "outputs": [],
   "source": [
    "# change gender column into an age label\n",
    "ageCol = predictors.apply(lambda row: genderToAge(row), axis=1)\n",
    "predictors = predictors.assign(age=ageCol.values)"
   ]
  },
  {
   "cell_type": "code",
   "execution_count": null,
   "metadata": {},
   "outputs": [],
   "source": [
    "# method used to numericalize seasons\n",
    "# 1 => first 3 months, 2 => second 3 months i.e April, May, June, 3 => third 3 months, 4 => fourth 3 months\n",
    "def numericalizeSeason(row):\n",
    "    if row['season'] == 'Winter':\n",
    "        return 1\n",
    "    if row['season'] == 'Spring':\n",
    "        return 2\n",
    "    if row['season'] == 'Summer':\n",
    "        return 3\n",
    "    if row['season'] == 'Fall':\n",
    "        return 4\n",
    "    return 0"
   ]
  },
  {
   "cell_type": "code",
   "execution_count": null,
   "metadata": {},
   "outputs": [],
   "source": [
    "# also going to convert season into triplet of months out of the year....if that made sense?\n",
    "months = predictors.apply(lambda row: numericalizeSeason(row), axis=1)\n",
    "predictors = predictors.assign(tripletsOfMonths=months)\n",
    "predictors.head()"
   ]
  },
  {
   "cell_type": "code",
   "execution_count": null,
   "metadata": {},
   "outputs": [],
   "source": [
    "# gets the most common value for color channel, excluding 255 so to not get white\n",
    "def getMostCommon(colors):\n",
    "    values, counts = np.unique(colors, return_counts=True)\n",
    "    \n",
    "    if ~(counts[values < 255].any()):\n",
    "        return 0\n",
    "    \n",
    "    ind = np.argmax(counts[values < 255])\n",
    "    return values[ind]"
   ]
  },
  {
   "cell_type": "code",
   "execution_count": null,
   "metadata": {},
   "outputs": [],
   "source": [
    "# add columns for most common red, green, and blue value in image\n",
    "predictors = predictors.assign(commonRed=0)\n",
    "predictors = predictors.assign(commonGreen=0)\n",
    "predictors = predictors.assign(commonBlue=0)"
   ]
  },
  {
   "cell_type": "code",
   "execution_count": null,
   "metadata": {},
   "outputs": [],
   "source": [
    "# loop will take around 6 hours to finish \n",
    "# have to read in one at a time/ don't have enough ram to store all\n",
    "# *hit shift-enter * *time for a nap*  \n",
    "counter = 1\n",
    "for fileName in glob.glob('C:\\\\Users\\\\WantaTyler\\\\MachineLearning-335\\\\datasets\\\\fashion-dataset\\\\images\\\\*.jpg'):\n",
    "    \n",
    "    # get the image id\n",
    "    filePath = fileName.split('\\\\')\n",
    "    id = filePath[7]\n",
    "    id = id[:id.index('.jpg')]\n",
    "    id = int(id)\n",
    "    \n",
    "    # read in and conver to rgb\n",
    "    image = cv2.imread(fileName)\n",
    "    image = cv2.cvtColor(image, cv2.COLOR_BGR2RGB)\n",
    "    \n",
    "    # get red, blue, green channels\n",
    "    red = image[:,:,0:1]\n",
    "    green = image[:,:,1:2]\n",
    "    blue = image[:,:,2:3]\n",
    "    \n",
    "    # find most common value\n",
    "    cRed = getMostCommon(red)\n",
    "    cGreen = getMostCommon(green)\n",
    "    cBlue = getMostCommon(blue)\n",
    "    \n",
    "    # add to dataframe\n",
    "    predictors.loc[predictors['id'] == id, ['commonRed', 'commonGreen', 'commonBlue']] = [cRed, cGreen, cBlue]\n",
    "    \n",
    "    # just used to see some progress\n",
    "    if (counter % 1000) == 0:\n",
    "        print(f'{counter/45556*100} % done')\n",
    "    \n",
    "    counter += 1"
   ]
  },
  {
   "cell_type": "code",
   "execution_count": null,
   "metadata": {},
   "outputs": [],
   "source": [
    "# send to csv so I dont ever have to run that loop again\n",
    "predictors.to_csv('data_part1.csv')"
   ]
  },
  {
   "cell_type": "code",
   "execution_count": null,
   "metadata": {},
   "outputs": [],
   "source": []
  }
 ],
 "metadata": {
  "kernelspec": {
   "display_name": "Python 3",
   "language": "python",
   "name": "python3"
  },
  "language_info": {
   "codemirror_mode": {
    "name": "ipython",
    "version": 3
   },
   "file_extension": ".py",
   "mimetype": "text/x-python",
   "name": "python",
   "nbconvert_exporter": "python",
   "pygments_lexer": "ipython3",
   "version": "3.7.6"
  }
 },
 "nbformat": 4,
 "nbformat_minor": 4
}
